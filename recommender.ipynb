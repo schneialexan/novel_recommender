{
 "cells": [
  {
   "cell_type": "code",
   "execution_count": 1,
   "metadata": {},
   "outputs": [],
   "source": [
    "import pandas as pd"
   ]
  },
  {
   "cell_type": "code",
   "execution_count": 2,
   "metadata": {},
   "outputs": [],
   "source": [
    "version = '0.1.3'\n",
    "path = 'data/'\n",
    "file_name = path + 'novels_' + version + '.csv'"
   ]
  },
  {
   "cell_type": "code",
   "execution_count": 5,
   "metadata": {},
   "outputs": [
    {
     "data": {
      "text/html": [
       "<div>\n",
       "<style scoped>\n",
       "    .dataframe tbody tr th:only-of-type {\n",
       "        vertical-align: middle;\n",
       "    }\n",
       "\n",
       "    .dataframe tbody tr th {\n",
       "        vertical-align: top;\n",
       "    }\n",
       "\n",
       "    .dataframe thead th {\n",
       "        text-align: right;\n",
       "    }\n",
       "</style>\n",
       "<table border=\"1\" class=\"dataframe\">\n",
       "  <thead>\n",
       "    <tr style=\"text-align: right;\">\n",
       "      <th></th>\n",
       "      <th>id</th>\n",
       "      <th>name</th>\n",
       "      <th>assoc_names</th>\n",
       "      <th>original_language</th>\n",
       "      <th>authors</th>\n",
       "      <th>genres</th>\n",
       "      <th>tags</th>\n",
       "      <th>start_year</th>\n",
       "      <th>licensed</th>\n",
       "      <th>original_publisher</th>\n",
       "      <th>...</th>\n",
       "      <th>activity_month_rank</th>\n",
       "      <th>activity_all_time_rank</th>\n",
       "      <th>on_reading_lists</th>\n",
       "      <th>reading_list_month_rank</th>\n",
       "      <th>reading_list_all_time_rank</th>\n",
       "      <th>rating</th>\n",
       "      <th>rating_votes</th>\n",
       "      <th>related_series_ids</th>\n",
       "      <th>recommended_series_ids</th>\n",
       "      <th>recommendation_list_ids</th>\n",
       "    </tr>\n",
       "  </thead>\n",
       "  <tbody>\n",
       "    <tr>\n",
       "      <th>0</th>\n",
       "      <td>56152</td>\n",
       "      <td>A Former Child Soldier Who Uses a Magic Sword ...</td>\n",
       "      <td>['A Former Child Soldier Who Uses a Magic Swor...</td>\n",
       "      <td>japanese</td>\n",
       "      <td>['hasekura mondo', '支倉文度']</td>\n",
       "      <td>['action', 'adventure', 'fantasy', 'romance', ...</td>\n",
       "      <td>['adapted to manga', 'calm protagonist', 'enem...</td>\n",
       "      <td>2018</td>\n",
       "      <td>False</td>\n",
       "      <td>shinkigensha</td>\n",
       "      <td>...</td>\n",
       "      <td>1359</td>\n",
       "      <td>7632</td>\n",
       "      <td>521</td>\n",
       "      <td>1437</td>\n",
       "      <td>8470</td>\n",
       "      <td>3.5</td>\n",
       "      <td>24</td>\n",
       "      <td>NaN</td>\n",
       "      <td>NaN</td>\n",
       "      <td>[1382]</td>\n",
       "    </tr>\n",
       "    <tr>\n",
       "      <th>1</th>\n",
       "      <td>58160</td>\n",
       "      <td>A Lifelong Love Affair At Work</td>\n",
       "      <td>['평생직장에서 사내연애']</td>\n",
       "      <td>korean</td>\n",
       "      <td>['새벽한강']</td>\n",
       "      <td>['action', 'adventure', 'romance', 'shounen ai']</td>\n",
       "      <td>['magic', 'office romance']</td>\n",
       "      <td>2022</td>\n",
       "      <td>False</td>\n",
       "      <td>ridibooks</td>\n",
       "      <td>...</td>\n",
       "      <td>3256</td>\n",
       "      <td>13595</td>\n",
       "      <td>132</td>\n",
       "      <td>5158</td>\n",
       "      <td>12646</td>\n",
       "      <td>5.0</td>\n",
       "      <td>2</td>\n",
       "      <td>NaN</td>\n",
       "      <td>NaN</td>\n",
       "      <td>[60769, 50877, 48872]</td>\n",
       "    </tr>\n",
       "  </tbody>\n",
       "</table>\n",
       "<p>2 rows × 27 columns</p>\n",
       "</div>"
      ],
      "text/plain": [
       "      id                                               name  \\\n",
       "0  56152  A Former Child Soldier Who Uses a Magic Sword ...   \n",
       "1  58160                     A Lifelong Love Affair At Work   \n",
       "\n",
       "                                         assoc_names original_language  \\\n",
       "0  ['A Former Child Soldier Who Uses a Magic Swor...          japanese   \n",
       "1                                    ['평생직장에서 사내연애']            korean   \n",
       "\n",
       "                      authors  \\\n",
       "0  ['hasekura mondo', '支倉文度']   \n",
       "1                    ['새벽한강']   \n",
       "\n",
       "                                              genres  \\\n",
       "0  ['action', 'adventure', 'fantasy', 'romance', ...   \n",
       "1   ['action', 'adventure', 'romance', 'shounen ai']   \n",
       "\n",
       "                                                tags start_year licensed  \\\n",
       "0  ['adapted to manga', 'calm protagonist', 'enem...       2018    False   \n",
       "1                        ['magic', 'office romance']       2022    False   \n",
       "\n",
       "  original_publisher  ... activity_month_rank activity_all_time_rank  \\\n",
       "0       shinkigensha  ...                1359                   7632   \n",
       "1          ridibooks  ...                3256                  13595   \n",
       "\n",
       "  on_reading_lists reading_list_month_rank reading_list_all_time_rank  rating  \\\n",
       "0              521                    1437                       8470     3.5   \n",
       "1              132                    5158                      12646     5.0   \n",
       "\n",
       "   rating_votes  related_series_ids  recommended_series_ids  \\\n",
       "0            24                 NaN                     NaN   \n",
       "1             2                 NaN                     NaN   \n",
       "\n",
       "   recommendation_list_ids  \n",
       "0                   [1382]  \n",
       "1    [60769, 50877, 48872]  \n",
       "\n",
       "[2 rows x 27 columns]"
      ]
     },
     "execution_count": 5,
     "metadata": {},
     "output_type": "execute_result"
    }
   ],
   "source": [
    "df = pd.read_csv(file_name)\n",
    "df.head(2)"
   ]
  },
  {
   "cell_type": "code",
   "execution_count": 6,
   "metadata": {},
   "outputs": [
    {
     "data": {
      "text/plain": [
       "(13592, 27)"
      ]
     },
     "execution_count": 6,
     "metadata": {},
     "output_type": "execute_result"
    }
   ],
   "source": [
    "df.shape"
   ]
  },
  {
   "cell_type": "code",
   "execution_count": null,
   "metadata": {},
   "outputs": [],
   "source": []
  }
 ],
 "metadata": {
  "kernelspec": {
   "display_name": "recommender",
   "language": "python",
   "name": "python3"
  },
  "language_info": {
   "codemirror_mode": {
    "name": "ipython",
    "version": 3
   },
   "file_extension": ".py",
   "mimetype": "text/x-python",
   "name": "python",
   "nbconvert_exporter": "python",
   "pygments_lexer": "ipython3",
   "version": "3.12.0"
  },
  "orig_nbformat": 4
 },
 "nbformat": 4,
 "nbformat_minor": 2
}
